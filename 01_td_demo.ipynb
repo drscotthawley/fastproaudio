{
 "cells": [
  {
   "cell_type": "code",
   "execution_count": null,
   "metadata": {},
   "outputs": [],
   "source": []
  },
  {
   "cell_type": "markdown",
   "metadata": {},
   "source": [
    "# End-to-End Time Domain Audio with fastai\n",
    "\n",
    "`fastaudio` focuses on spectrograms. `fastai`\n",
    " use cases tend to focus on classification. We need to go beyond those. Instead we'll focus on two things:\n",
    "\n",
    "1. autoregressive prediction in the time domain. We'll use an LSTM -- essentially adapting the language model lessons\n",
    "\n",
    "2.  audio-to-audio processing/translation (e.g. audio effects). We'll use stacked 1D convolutions like a U-Net\n",
    "\n",
    "(you probably noticed already that task #1 could be in task #2, for the case of translating to audio shifted ahead by one sample.)\n",
    "\n",
    "#### \"How many channels of audio are we going to use?\"\n",
    " That's up to the dataset!  We're certainly not going to assume that it's just mono.\n",
    "\n",
    "#### \"What other fastai datatypes/projects are relevant?\"\n",
    " There are three packages that are relevant for sequence modeling:\n",
    "\n",
    "1.  `fastaudio`, as we mentioned, is only for spectrogram classification. The `AudioBlock` makes batches using an entire audio file which then gets converted to spectrograms.  Instead, we want to progressively grab sequences of audio samples and as (uniform-length) chunks.\n",
    "\n",
    "2. The [Time Series Prediction](https://timeseriesai.github.io/tsai/) package is relevant, but the only time series output it seems to support is [\"univariate forecasting\"](https://timeseriesai.github.io/tsai/#Univariate-Forecasting).  Nope. \n",
    "3. Language Modeling, e.g. Chapters [10](https://github.com/fastai/fastbook/blob/master/10_nlp.ipynb) and [12](https://github.com/fastai/fastbook/blob/master/12_nlp_dive.ipynb) from fastbook. Yea, that's the closest. We can treat the audio samples as if they were word vectors/embeddings: just make the tokenizer and numericalize methods to be no-ops (or we could use mu-law encoding).  Nice thing is the dimensionality of the embeddings is just equal to how many channels of audio you have. \n",
    "   \n",
    "We'll use *some* of fastaudio but we'll also liberally rewrite/overwrite whatever we want. We'll start with their imports..  "
   ]
  },
  {
   "cell_type": "code",
   "execution_count": null,
   "metadata": {},
   "outputs": [],
   "source": [
    "#hide\n",
    "from nbdev.showdoc import *"
   ]
  },
  {
   "cell_type": "code",
   "execution_count": null,
   "metadata": {},
   "outputs": [],
   "source": [
    "#all_slow"
   ]
  },
  {
   "cell_type": "code",
   "execution_count": null,
   "metadata": {},
   "outputs": [],
   "source": [
    "from fastai.vision.all import *\n",
    "from fastai.text.all import *\n",
    "import torch\n",
    "import torchaudio\n",
    "import torchaudio.functional as F\n",
    "import torchaudio.transforms as T\n",
    "from IPython.display import Audio \n",
    "\n",
    "from fastproaudio.core import *\n",
    "\n",
    "use_fastaudio = False\n",
    "if use_fastaudio:\n",
    "    from fastaudio.core.all import *\n",
    "    from fastaudio.augment.all import *\n",
    "    from fastaudio.ci import skip_if_ci"
   ]
  },
  {
   "cell_type": "markdown",
   "metadata": {},
   "source": [
    "As for data, we just use the fastaudio \"speakers\" dataset for now:"
   ]
  },
  {
   "cell_type": "code",
   "execution_count": null,
   "metadata": {},
   "outputs": [],
   "source": [
    "#URLs.SPEAKERS10 = \"http://www.openslr.org/resources/45/ST-AEDS-20180100_1-OS.tgz\"\n",
    "#path = untar_data(URLs.SPEAKERS10)"
   ]
  },
  {
   "cell_type": "markdown",
   "metadata": {},
   "source": [
    "....and then we could learn some kind of inverse effect such as denoising: we could add noise to the audio files and then train the network to remove the noise. \n",
    "\n",
    "But what other audio datasets are available? \n",
    "\n",
    "* [torchaudio datasets](https://pytorch.org/audio/stable/datasets.html). These are almost all about speech; only GTZAN is musical.  \n",
    "* I've got the [SignalTrain audio dataset for compressors](https://zenodo.org/record/3824876) although it's 20 GB. \n",
    "* [Source separation datasets](https://source-separation.github.io/tutorial/data/datasets.html), i.e. mono-to-many\n",
    "* [ISMIR has a list of datasets](https://ismir.net/resources/datasets/)\n",
    "* We can always grab audio and then use Spotify's new [Pedalboard](https://github.com/spotify/pedalboard) to add effects\n",
    "* [Marco Martinez' Leslie effects dataset](https://zenodo.org/record/3562442) is a bit less than 1 GB. It has \"dry\" (input) and \"tremelo\" (target) directories.\n",
    "\n",
    "Since Christian Steinmetz uses SignalTrain data for his [Micro-TCN](https://github.com/csteinmetz1/micro-tcn), we'll do that, using the 200MB \"Reduced\" version I just made:"
   ]
  },
  {
   "cell_type": "code",
   "execution_count": null,
   "metadata": {},
   "outputs": [
    {
     "data": {
      "text/plain": [
       "Path('/home/shawley/.fastai/data/SignalTrain_LA2A_Reduced')"
      ]
     },
     "execution_count": null,
     "metadata": {},
     "output_type": "execute_result"
    }
   ],
   "source": [
    "path = get_audio_data(URLs.SIGNALTRAIN_LA2A_REDUCED); path"
   ]
  },
  {
   "cell_type": "markdown",
   "metadata": {},
   "source": [
    "Steinmetz uses PyTorch Lightning instead of fastai.  We should be able to do the bare minimum integration by following Zach Mueller's prescription. "
   ]
  },
  {
   "cell_type": "code",
   "execution_count": null,
   "metadata": {},
   "outputs": [],
   "source": []
  }
 ],
 "metadata": {
  "kernelspec": {
   "display_name": "Python 3 (ipykernel)",
   "language": "python",
   "name": "python3"
  }
 },
 "nbformat": 4,
 "nbformat_minor": 2
}
