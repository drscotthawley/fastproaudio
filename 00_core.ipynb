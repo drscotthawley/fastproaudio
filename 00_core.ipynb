{
 "cells": [
  {
   "cell_type": "code",
   "execution_count": null,
   "metadata": {},
   "outputs": [],
   "source": [
    "# default_exp core"
   ]
  },
  {
   "cell_type": "markdown",
   "metadata": {},
   "source": [
    "# fastproaudio core\n",
    "\n",
    "> API details."
   ]
  },
  {
   "cell_type": "code",
   "execution_count": null,
   "metadata": {},
   "outputs": [],
   "source": [
    "#hide\n",
    "from nbdev.showdoc import *"
   ]
  },
  {
   "cell_type": "code",
   "execution_count": null,
   "metadata": {},
   "outputs": [],
   "source": [
    "#export\n",
    "\n",
    "#from fastai.vision.all import *\n",
    "from fastai.data.all import *\n",
    "from subprocess import Popen, PIPE\n",
    "import pyzenodo3\n",
    "#from zipfile import ZipFile\n",
    "\n",
    "# some data urls\n",
    "URLs.AUDIOMDPI = 'https://zenodo.org/record/3562442'\n",
    "URLs.MARCO = URLs.AUDIOMDPI  # just a shorthand alias I'm more likely to remember\n",
    "URLs.SIGNALTRAIN_LA2A_1_1 = 'https://zenodo.org/record/3824876'\n",
    "URLs.SIGNALTRAIN_LA2A_REDUCED = 'http://hedges.belmont.edu/data/SignalTrain_LA2A_Reduced.tgz'"
   ]
  },
  {
   "cell_type": "code",
   "execution_count": null,
   "metadata": {},
   "outputs": [],
   "source": [
    "#export\n",
    "def zenodo_url_to_data_url(url):\n",
    "    #%pip install pyzenodo3 -q\n",
    "    zen = pyzenodo3.Zenodo()\n",
    "    record = url.split('/')[-1]\n",
    "    return zen.get_record(record).data['files'][0]['links']['self']  "
   ]
  },
  {
   "cell_type": "code",
   "execution_count": null,
   "metadata": {},
   "outputs": [
    {
     "data": {
      "text/plain": [
       "'https://zenodo.org/api/files/d6589bb4-d6a6-4bc6-8e51-e6334fafbe3f/AudioMDPI.zip'"
      ]
     },
     "execution_count": null,
     "metadata": {},
     "output_type": "execute_result"
    }
   ],
   "source": [
    "zenodo_url_to_data_url(URLs.MARCO)"
   ]
  },
  {
   "cell_type": "code",
   "execution_count": null,
   "metadata": {},
   "outputs": [
    {
     "data": {
      "text/plain": [
       "'https://zenodo.org/api/files/df302f12-7355-452e-93d1-b0c9344608f7/SignalTrain_LA2A_Dataset_1.1.tgz'"
      ]
     },
     "execution_count": null,
     "metadata": {},
     "output_type": "execute_result"
    }
   ],
   "source": [
    "zenodo_url_to_data_url(URLs.SIGNALTRAIN_LA2A_1_1)"
   ]
  },
  {
   "cell_type": "code",
   "execution_count": null,
   "metadata": {},
   "outputs": [],
   "source": [
    "#export \n",
    "\n",
    "# extract_func no longer supported  in untar_data, so zipfile stuff is unused\n",
    "# thanks KevinB for the zip_extract! https://forums.fast.ai/t/generalizing-untar-data-to-also-work-with-zips/53741/14?u=drscotthawley\n",
    "#def zip_extract(fname, dest):\n",
    "#    zipfile.ZipFile(fname, mode='r').extractall(dest)\n",
    "\n",
    "def get_audio_data(url):\n",
    "    if ('zenodo' in url.lower()):\n",
    "        url = zenodo_url_to_data_url(url)\n",
    "    if '.zip' in url[-5:]:\n",
    "        return untar_data(url)#, extract_func=zip_extract) #\n",
    "    else:\n",
    "        return untar_data(url) "
   ]
  },
  {
   "cell_type": "code",
   "execution_count": null,
   "metadata": {},
   "outputs": [
    {
     "data": {
      "text/plain": [
       "Path('/home/shawley/.fastai/data/SignalTrain_LA2A_Reduced')"
      ]
     },
     "execution_count": null,
     "metadata": {},
     "output_type": "execute_result"
    }
   ],
   "source": [
    "#slow\n",
    "path = get_audio_data(URLs.SIGNALTRAIN_LA2A_REDUCED)\n",
    "path"
   ]
  },
  {
   "cell_type": "code",
   "execution_count": null,
   "metadata": {},
   "outputs": [
    {
     "data": {
      "text/plain": [
       "Path('/home/shawley/.fastai/data/AudioMDPI')"
      ]
     },
     "execution_count": null,
     "metadata": {},
     "output_type": "execute_result"
    }
   ],
   "source": [
    "#slow\n",
    "path = get_audio_data(URLs.MARCO)\n",
    "path"
   ]
  },
  {
   "cell_type": "code",
   "execution_count": null,
   "metadata": {},
   "outputs": [],
   "source": []
  }
 ],
 "metadata": {
  "kernelspec": {
   "display_name": "Python 3 (ipykernel)",
   "language": "python",
   "name": "python3"
  }
 },
 "nbformat": 4,
 "nbformat_minor": 2
}
